{
 "cells": [
  {
   "cell_type": "code",
   "execution_count": 132,
   "metadata": {},
   "outputs": [],
   "source": [
    "import os\n",
    "import shutil\n",
    "import numpy as np"
   ]
  },
  {
   "cell_type": "code",
   "execution_count": 21,
   "metadata": {},
   "outputs": [],
   "source": [
    "def get_dir_size(path='.'):\n",
    "    total = 0\n",
    "    with os.scandir(path) as it:\n",
    "        for entry in it:\n",
    "            if entry.is_file():\n",
    "                total += entry.stat().st_size\n",
    "            elif entry.is_dir():\n",
    "                total += get_dir_size(entry.path)\n",
    "    return total\n",
    "\n",
    "def get_dir_count(path='.'):\n",
    "    total = 0\n",
    "    with os.scandir(path) as it:\n",
    "        for entry in it:\n",
    "            if entry.is_file():\n",
    "                total += 1\n",
    "            elif entry.is_dir():\n",
    "                total += get_dir_count(entry.path)\n",
    "    return total"
   ]
  },
  {
   "cell_type": "code",
   "execution_count": 157,
   "metadata": {},
   "outputs": [
    {
     "name": "stdout",
     "output_type": "stream",
     "text": [
      "1569.9 MB\n"
     ]
    }
   ],
   "source": [
    "full_dataset_size = get_dir_size('./FLAME Dataset - Shamsoshoara/')\n",
    "print(round(full_dataset_size/(10**6),2),'MB')"
   ]
  },
  {
   "cell_type": "code",
   "execution_count": 29,
   "metadata": {},
   "outputs": [],
   "source": [
    "# Calculate the factor by which we would need to reduce the dataset to\n",
    "dataset_reduction_factor = 100/(full_dataset_size/10**6)"
   ]
  },
  {
   "cell_type": "code",
   "execution_count": 158,
   "metadata": {},
   "outputs": [
    {
     "name": "stdout",
     "output_type": "stream",
     "text": [
      "I will now randomly choose 6.37% of the images for my project dataset.\n"
     ]
    }
   ],
   "source": [
    "print(f\"I will now randomly choose {round(dataset_reduction_factor*100,2)}% of the images for my project dataset.\")"
   ]
  },
  {
   "cell_type": "code",
   "execution_count": 154,
   "metadata": {},
   "outputs": [],
   "source": [
    "# Define a copy function that only copies a file over to a new directory 6.37% of the time\n",
    "def reduce_copyfunc(src,dst):\n",
    "    retain = np.random.choice([True,False],p=[dataset_reduction_factor,1-dataset_reduction_factor])\n",
    "    if retain:\n",
    "        shutil.copy(src=src,dst=dst)\n"
   ]
  },
  {
   "cell_type": "code",
   "execution_count": 155,
   "metadata": {},
   "outputs": [
    {
     "data": {
      "text/plain": [
       "'FLAME_Dataset_subset'"
      ]
     },
     "execution_count": 155,
     "metadata": {},
     "output_type": "execute_result"
    }
   ],
   "source": [
    "# Apply the shututil.copytree function with the reduce_copyfunc defined above\n",
    "shutil.copytree(src='FLAME Dataset - Shamsoshoara',dst='FLAME_Dataset_subset',copy_function=reduce_copyfunc)"
   ]
  },
  {
   "cell_type": "code",
   "execution_count": 156,
   "metadata": {},
   "outputs": [
    {
     "name": "stdout",
     "output_type": "stream",
     "text": [
      "99.02 MB\n"
     ]
    }
   ],
   "source": [
    "# Check the size of the resulting dataset\n",
    "size_in_bytes = get_dir_size('FLAME_Dataset_subset')\n",
    "print(round(size_in_bytes/(10**6),2),'MB')"
   ]
  }
 ],
 "metadata": {
  "kernelspec": {
   "display_name": "uda_project",
   "language": "python",
   "name": "python3"
  },
  "language_info": {
   "codemirror_mode": {
    "name": "ipython",
    "version": 3
   },
   "file_extension": ".py",
   "mimetype": "text/x-python",
   "name": "python",
   "nbconvert_exporter": "python",
   "pygments_lexer": "ipython3",
   "version": "3.7.12"
  }
 },
 "nbformat": 4,
 "nbformat_minor": 2
}
