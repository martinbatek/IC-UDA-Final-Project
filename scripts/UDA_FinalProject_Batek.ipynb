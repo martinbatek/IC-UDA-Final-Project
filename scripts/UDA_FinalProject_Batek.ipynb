{
 "cells": [
  {
   "cell_type": "markdown",
   "metadata": {},
   "source": [
    "# Exploratory Data Analysis"
   ]
  },
  {
   "cell_type": "markdown",
   "metadata": {},
   "source": [
    "## Dataset File Structure and Class Proportions"
   ]
  },
  {
   "cell_type": "markdown",
   "metadata": {},
   "source": [
    "FIrst I will investigate the file structure of the dataset. Below I do so by printing out the directory tree for the dataset."
   ]
  },
  {
   "cell_type": "code",
   "execution_count": 1,
   "metadata": {},
   "outputs": [
    {
     "name": "stdout",
     "output_type": "stream",
     "text": [
      "-FLAME_Dataset_subset\n",
      "    -Test\n",
      "        -Fire\n",
      "            -353 files\n",
      "        -No_Fire\n",
      "            -211 files\n",
      "    -Training\n",
      "        -Fire\n",
      "            -1574 files\n",
      "        -No_Fire\n",
      "            -889 files\n"
     ]
    }
   ],
   "source": [
    "import os\n",
    "\n",
    "# Define a funtion that prints out the tree for a given directory,\n",
    "# showing only subdirectories and file counts\n",
    "\n",
    "def list_files(startpath):\n",
    "    for root, dirs, files in os.walk(startpath):\n",
    "        level = root.replace(startpath, '').count(os.sep)\n",
    "        indent = ' ' * 4 * (level)\n",
    "        print('{}-{}'.format(indent, os.path.basename(root)))\n",
    "        subindent = ' ' * 4 * (level + 1)\n",
    "        filecount = len(files)\n",
    "        if filecount>0:\n",
    "            print(f'{subindent}-{filecount} files')\n",
    "\n",
    "list_files('../data/FLAME_Dataset_subset')"
   ]
  },
  {
   "cell_type": "markdown",
   "metadata": {},
   "source": [
    "As per the above, the dataset is split into Test and Training directories, each of which are further subdivided into Fire and No_Fire classed images. Examining the file counts clearly shows that there is a significant class imbalance between Fire and Non-Fire images, and that the Fire Class is overrepresented in the training set relative to the Test set. This may have an adverse impact on test specificity later on, as it may influence the CNN to class images as Fire (positive) less often"
   ]
  },
  {
   "cell_type": "markdown",
   "metadata": {},
   "source": [
    "## Dataset Pixel Size"
   ]
  },
  {
   "cell_type": "markdown",
   "metadata": {},
   "source": [
    "Next, I will plot the pizel sizes of all of the images in the dataset in $\\mathbb{R}^2$"
   ]
  },
  {
   "cell_type": "code",
   "execution_count": 4,
   "metadata": {},
   "outputs": [
    {
     "data": {
      "text/plain": [
       "[254, 254]"
      ]
     },
     "execution_count": 4,
     "metadata": {},
     "output_type": "execute_result"
    }
   ],
   "source": [
    "import matplotlib.pyplot as plt\n",
    "from PIL import Image\n",
    "import numpy as np\n",
    "\n",
    "# Define a function that returns the pixel dimensions of an image as a list\n",
    "def get_dims(im_path):\n",
    "    im = Image.open(im_path)\n",
    "    arr = np.array(im)\n",
    "    h,w,c = arr.shape\n",
    "    return [h,w]\n",
    "\n",
    "get_dims('../data/FLAME_Dataset_subset/Training/Fire/resized_frame20129.jpg')"
   ]
  },
  {
   "cell_type": "code",
   "execution_count": 8,
   "metadata": {},
   "outputs": [],
   "source": [
    "# Loop through the entire dataset\n",
    "\n",
    "height = []\n",
    "width = []\n",
    "train_test_flag = []\n",
    "fire_flag = []\n",
    "\n",
    "root_path = '../data/FLAME_Dataset_subset'\n",
    "\n",
    "for s in ['Test','Training']:\n",
    "    for c in ['Fire','No_Fire']:\n",
    "        current_dir = os.path.join(root_path,s,c)\n",
    "        file_seq = os.scandir(current_dir)\n",
    "        for item in file_seq:\n",
    "            train_test_flag.append(s)\n",
    "            fire_flag.append(c)\n",
    "            img_dims = get_dims(item.path)\n",
    "            height.append(img_dims[0])\n",
    "            width.append(img_dims[1])\n",
    "\n",
    "# Summarise in dataframe\n",
    "import pandas as pd\n",
    "image_dim_df = pd.DataFrame(\n",
    "    data = {\n",
    "        'height':height,\n",
    "        'width':width,\n",
    "        'train_test':train_test_flag,\n",
    "        'fire_noFire':fire_flag\n",
    "    }\n",
    ")\n"
   ]
  },
  {
   "cell_type": "code",
   "execution_count": 10,
   "metadata": {},
   "outputs": [
    {
     "data": {
      "image/png": "[encoded data removed]",
      "text/plain": [
       "<Figure size 640x480 with 1 Axes>"
      ]
     },
     "metadata": {},
     "output_type": "display_data"
    }
   ],
   "source": [
    "# Visualize the result\n",
    "plt.scatter(image_dim_df['height'],image_dim_df['width'])\n",
    "plt.xlabel('Height in Pixels')\n",
    "plt.ylabel('Width in Pixels')\n",
    "plt.title('Dimensions of the Flame Dataset')\n",
    "plt.savefig('../figures/flame_dataset_image_dimensions.png')\n",
    "plt.show()"
   ]
  },
  {
   "cell_type": "code",
   "execution_count": 14,
   "metadata": {},
   "outputs": [
    {
     "data": {
      "text/plain": [
       "False"
      ]
     },
     "execution_count": 14,
     "metadata": {},
     "output_type": "execute_result"
    }
   ],
   "source": [
    "# Test if there are any images that are not 255 X 255\n",
    "\n",
    "((image_dim_df.height != 254) & (image_dim_df.width != 254)).any()"
   ]
  }
 ],
 "metadata": {
  "kernelspec": {
   "display_name": "uda",
   "language": "python",
   "name": "python3"
  },
  "language_info": {
   "codemirror_mode": {
    "name": "ipython",
    "version": 3
   },
   "file_extension": ".py",
   "mimetype": "text/x-python",
   "name": "python",
   "nbconvert_exporter": "python",
   "pygments_lexer": "ipython3",
   "version": "3.9.18"
  }
 },
 "nbformat": 4,
 "nbformat_minor": 2
}
