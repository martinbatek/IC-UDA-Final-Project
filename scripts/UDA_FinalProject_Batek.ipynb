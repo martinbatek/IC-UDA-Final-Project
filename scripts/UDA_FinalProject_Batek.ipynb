{
 "cells": [
  {
   "cell_type": "markdown",
   "metadata": {},
   "source": [
    "# Exploratory Data Analysis"
   ]
  },
  {
   "cell_type": "markdown",
   "metadata": {},
   "source": [
    "## Dataset File Structure and Class Proportions"
   ]
  },
  {
   "cell_type": "markdown",
   "metadata": {},
   "source": [
    "FIrst I will investigate the file structure of the dataset. Below I do so by printing out the directory tree for the dataset."
   ]
  },
  {
   "cell_type": "code",
   "execution_count": 1,
   "metadata": {},
   "outputs": [
    {
     "name": "stdout",
     "output_type": "stream",
     "text": [
      "-FLAME_Dataset_subset\n",
      "    -Test\n",
      "        -Fire\n",
      "            -353 files\n",
      "        -No_Fire\n",
      "            -211 files\n",
      "    -Training\n",
      "        -Fire\n",
      "            -1574 files\n",
      "        -No_Fire\n",
      "            -889 files\n"
     ]
    }
   ],
   "source": [
    "import os\n",
    "\n",
    "# Define a funtion that prints out the tree for a given directory,\n",
    "# showing only subdirectories and file counts\n",
    "\n",
    "def list_files(startpath):\n",
    "    for root, dirs, files in os.walk(startpath):\n",
    "        level = root.replace(startpath, '').count(os.sep)\n",
    "        indent = ' ' * 4 * (level)\n",
    "        print('{}-{}'.format(indent, os.path.basename(root)))\n",
    "        subindent = ' ' * 4 * (level + 1)\n",
    "        filecount = len(files)\n",
    "        if filecount>0:\n",
    "            print(f'{subindent}-{filecount} files')\n",
    "\n",
    "list_files('../data/FLAME_Dataset_subset')"
   ]
  },
  {
   "cell_type": "markdown",
   "metadata": {},
   "source": [
    "As per the above, the dataset is split into Test and Training directories, each of which are further subdivided into Fire and No_Fire classed images. Examining the file counts clearly shows that there is a significant class imbalance between Fire and Non-Fire images, and that the Fire Class is overrepresented in the training set relative to the Test set. This may have an adverse impact on test specificity later on, as it may influence the CNN to class images as Fire (positive) less often"
   ]
  },
  {
   "cell_type": "markdown",
   "metadata": {},
   "source": [
    "## Dataset Pixel Size"
   ]
  },
  {
   "cell_type": "markdown",
   "metadata": {},
   "source": [
    "Next, I will plot the pizel sizes of all of the images in the dataset in $\\mathbb{R}^2$"
   ]
  },
  {
   "cell_type": "code",
   "execution_count": 4,
   "metadata": {},
   "outputs": [
    {
     "data": {
      "text/plain": [
       "[254, 254]"
      ]
     },
     "execution_count": 4,
     "metadata": {},
     "output_type": "execute_result"
    }
   ],
   "source": [
    "import matplotlib.pyplot as plt\n",
    "from PIL import Image\n",
    "import numpy as np\n",
    "\n",
    "# Define a function that returns the pixel dimensions of an image as a list\n",
    "def get_dims(im_path):\n",
    "    im = Image.open(im_path)\n",
    "    arr = np.array(im)\n",
    "    h,w,c = arr.shape\n",
    "    return [h,w]\n",
    "\n",
    "get_dims('../data/FLAME_Dataset_subset/Training/Fire/resized_frame20129.jpg')"
   ]
  }
 ],
 "metadata": {
  "kernelspec": {
   "display_name": "uda",
   "language": "python",
   "name": "python3"
  },
  "language_info": {
   "codemirror_mode": {
    "name": "ipython",
    "version": 3
   },
   "file_extension": ".py",
   "mimetype": "text/x-python",
   "name": "python",
   "nbconvert_exporter": "python",
   "pygments_lexer": "ipython3",
   "version": "3.9.18"
  }
 },
 "nbformat": 4,
 "nbformat_minor": 2
}
